{
 "cells": [
  {
   "cell_type": "code",
   "execution_count": 1,
   "metadata": {},
   "outputs": [],
   "source": [
    "import argparse\n",
    "import csv\n",
    "import os\n",
    "import sys\n",
    "import numpy as np\n",
    "import matplotlib\n",
    "import matplotlib.font_manager as fm\n",
    "import matplotlib.patheffects as pe\n",
    "import pandas as pd\n",
    "import sys\n",
    "import textwrap\n",
    "\n",
    "from itertools import product, combinations\n",
    "from matplotlib import cm\n",
    "from matplotlib.ticker import FormatStrFormatter\n",
    "from matplotlib import pyplot as plt\n",
    "from mpl_toolkits.mplot3d import Axes3D\n",
    "from mpl_toolkits.mplot3d import axes3d\n",
    "import matplotlib.transforms as mtransforms\n",
    "from matplotlib.patches import Circle, PathPatch\n",
    "import mpl_toolkits.mplot3d.art3d as art3d\n",
    "from matplotlib.text import TextPath\n",
    "from matplotlib.transforms import Affine2D\n",
    "\n",
    "%matplotlib widget"
   ]
  },
  {
   "cell_type": "code",
   "execution_count": null,
   "metadata": {},
   "outputs": [],
   "source": [
    "matplotlib.use('pgf')\n",
    "matplotlib.rcParams['pgf.texsystem'] = 'pdflatex'\n",
    "matplotlib.rcParams['text.usetex'] = True\n",
    "matplotlib.rcParams['text.latex.preamble'] = [ r'\\usepackage{siunitx}',\n",
    "                                               r'\\sisetup{detect-all}',\n",
    "                                               r'\\usepackage{helvet}',\n",
    "                                               r'\\usepackage{sansmath}',\n",
    "                                               r'\\sansmath']"
   ]
  },
  {
   "cell_type": "code",
   "execution_count": 4,
   "metadata": {},
   "outputs": [],
   "source": [
    "def create_csv_dict(csv_table):\n",
    "    '''\n",
    "    Reads a table containing Franck-Condon trajectory\n",
    "    information. Creates a dictionary where the keys\n",
    "    are the titles of the columns and the values are\n",
    "    list taken from the corresponding columns entries.\n",
    "    '''\n",
    "\n",
    "    with open(csv_table, 'r') as ct:\n",
    "        dataframe = pd.read_csv(ct, header=0)\n",
    "\n",
    "    return dataframe\n",
    "\n",
    "def slice_pandas_series(pd_series, lim):\n",
    "    '''\n",
    "    '''\n",
    "    if float(pd_series[-1:]) > float(lim):\n",
    "        for index, value in enumerate(pd_series):\n",
    "            if value > lim:\n",
    "                slicing_index = index\n",
    "                break\n",
    "\n",
    "    return slicing_index"
   ]
  },
  {
   "cell_type": "code",
   "execution_count": 5,
   "metadata": {},
   "outputs": [],
   "source": [
    "csv = 'ar7_f13_results_FC.csv'\n",
    "df = create_csv_dict(csv)"
   ]
  },
  {
   "cell_type": "code",
   "execution_count": 6,
   "metadata": {},
   "outputs": [
    {
     "data": {
      "text/plain": [
       "Index(['Time Scaled', 'S0 CASSCF 2R', 'S1 CASSCF 2R', 'S0 CASSCF 2R Scaled',\n",
       "       'S1 CASSCF 2R Scaled', 'S0 CASSCF 2R Scaled CASPT2',\n",
       "       'S1 CASSCF 2R Scaled CASPT2', 'S0 CASSCF Energy', 'S1 CASSCF Energy',\n",
       "       'S2 CASSCF Energy', 'S0 CASPT2 Energy', 'S1 CASPT2 Energy',\n",
       "       'S2 CASPT2 Energy', 'Scaled S0 CASSCF Energy',\n",
       "       'Scaled S1 CASSCF Energy', 'Scaled S2 CASSCF Energy',\n",
       "       'Scaled S0 CASPT2 Energy', 'Scaled S1 CASPT2 Energy', 'Unnamed: 18',\n",
       "       'Scaled S2 CASPT2 Energy', 'S0 Mulliken Charge', 'S1 Mulliken Charge',\n",
       "       'S2 Mulliken Charge', 'Oscillator Strength S0S1',\n",
       "       'Oscillator Strength S0S2', 'Oscillator Strength S1S2', 'Reactive TORS',\n",
       "       'Reactive HOOP', 'HOOP in phase', 'TAU overlap', 'full-BLA', 'beta-BLA',\n",
       "       'rpsb-BLA'],\n",
       "      dtype='object')"
      ]
     },
     "execution_count": 6,
     "metadata": {},
     "output_type": "execute_result"
    }
   ],
   "source": [
    "df.keys()"
   ]
  },
  {
   "cell_type": "code",
   "execution_count": 7,
   "metadata": {},
   "outputs": [
    {
     "data": {
      "text/plain": [
       "33"
      ]
     },
     "execution_count": 7,
     "metadata": {},
     "output_type": "execute_result"
    }
   ],
   "source": [
    "len(df.keys())"
   ]
  },
  {
   "cell_type": "code",
   "execution_count": 8,
   "metadata": {},
   "outputs": [
    {
     "data": {
      "text/html": [
       "<div>\n",
       "<style scoped>\n",
       "    .dataframe tbody tr th:only-of-type {\n",
       "        vertical-align: middle;\n",
       "    }\n",
       "\n",
       "    .dataframe tbody tr th {\n",
       "        vertical-align: top;\n",
       "    }\n",
       "\n",
       "    .dataframe thead th {\n",
       "        text-align: right;\n",
       "    }\n",
       "</style>\n",
       "<table border=\"1\" class=\"dataframe\">\n",
       "  <thead>\n",
       "    <tr style=\"text-align: right;\">\n",
       "      <th></th>\n",
       "      <th>Time Scaled</th>\n",
       "      <th>S0 CASSCF 2R</th>\n",
       "      <th>S1 CASSCF 2R</th>\n",
       "      <th>S0 CASSCF 2R Scaled</th>\n",
       "      <th>S1 CASSCF 2R Scaled</th>\n",
       "      <th>S0 CASSCF 2R Scaled CASPT2</th>\n",
       "      <th>S1 CASSCF 2R Scaled CASPT2</th>\n",
       "      <th>S0 CASSCF Energy</th>\n",
       "      <th>S1 CASSCF Energy</th>\n",
       "      <th>S2 CASSCF Energy</th>\n",
       "      <th>...</th>\n",
       "      <th>Oscillator Strength S0S1</th>\n",
       "      <th>Oscillator Strength S0S2</th>\n",
       "      <th>Oscillator Strength S1S2</th>\n",
       "      <th>Reactive TORS</th>\n",
       "      <th>Reactive HOOP</th>\n",
       "      <th>HOOP in phase</th>\n",
       "      <th>TAU overlap</th>\n",
       "      <th>full-BLA</th>\n",
       "      <th>beta-BLA</th>\n",
       "      <th>rpsb-BLA</th>\n",
       "    </tr>\n",
       "  </thead>\n",
       "  <tbody>\n",
       "    <tr>\n",
       "      <th>0</th>\n",
       "      <td>0.0000</td>\n",
       "      <td>-869.021421</td>\n",
       "      <td>-868.908881</td>\n",
       "      <td>0.0</td>\n",
       "      <td>70.6</td>\n",
       "      <td>0.0</td>\n",
       "      <td>47.2</td>\n",
       "      <td>-869.021843</td>\n",
       "      <td>-868.907728</td>\n",
       "      <td>-868.880461</td>\n",
       "      <td>...</td>\n",
       "      <td>1.429031</td>\n",
       "      <td>0.329143</td>\n",
       "      <td>0.051163</td>\n",
       "      <td>-15.070</td>\n",
       "      <td>-9.261</td>\n",
       "      <td>-2.9045</td>\n",
       "      <td>-12.1655</td>\n",
       "      <td>0.090</td>\n",
       "      <td>0.090</td>\n",
       "      <td>0.114</td>\n",
       "    </tr>\n",
       "    <tr>\n",
       "      <th>1</th>\n",
       "      <td>1.2235</td>\n",
       "      <td>-869.021621</td>\n",
       "      <td>-868.910283</td>\n",
       "      <td>-0.1</td>\n",
       "      <td>69.7</td>\n",
       "      <td>-0.1</td>\n",
       "      <td>46.6</td>\n",
       "      <td>-869.021488</td>\n",
       "      <td>-868.910346</td>\n",
       "      <td>-868.884860</td>\n",
       "      <td>...</td>\n",
       "      <td>1.485390</td>\n",
       "      <td>0.303284</td>\n",
       "      <td>0.048310</td>\n",
       "      <td>-15.069</td>\n",
       "      <td>-9.345</td>\n",
       "      <td>-2.8620</td>\n",
       "      <td>-12.2070</td>\n",
       "      <td>0.081</td>\n",
       "      <td>0.082</td>\n",
       "      <td>0.101</td>\n",
       "    </tr>\n",
       "    <tr>\n",
       "      <th>2</th>\n",
       "      <td>2.4470</td>\n",
       "      <td>-869.021185</td>\n",
       "      <td>-868.913040</td>\n",
       "      <td>0.1</td>\n",
       "      <td>68.0</td>\n",
       "      <td>0.1</td>\n",
       "      <td>45.4</td>\n",
       "      <td>-869.020138</td>\n",
       "      <td>-868.913349</td>\n",
       "      <td>-868.890678</td>\n",
       "      <td>...</td>\n",
       "      <td>1.584949</td>\n",
       "      <td>0.251891</td>\n",
       "      <td>0.040584</td>\n",
       "      <td>-15.067</td>\n",
       "      <td>-9.484</td>\n",
       "      <td>-2.7915</td>\n",
       "      <td>-12.2755</td>\n",
       "      <td>0.067</td>\n",
       "      <td>0.069</td>\n",
       "      <td>0.081</td>\n",
       "    </tr>\n",
       "    <tr>\n",
       "      <th>3</th>\n",
       "      <td>3.6705</td>\n",
       "      <td>-869.019683</td>\n",
       "      <td>-868.916329</td>\n",
       "      <td>1.1</td>\n",
       "      <td>65.9</td>\n",
       "      <td>0.7</td>\n",
       "      <td>44.1</td>\n",
       "      <td>-869.017405</td>\n",
       "      <td>-868.915721</td>\n",
       "      <td>-868.896529</td>\n",
       "      <td>...</td>\n",
       "      <td>1.733408</td>\n",
       "      <td>0.164335</td>\n",
       "      <td>0.025491</td>\n",
       "      <td>-15.069</td>\n",
       "      <td>-9.680</td>\n",
       "      <td>-2.6945</td>\n",
       "      <td>-12.3745</td>\n",
       "      <td>0.050</td>\n",
       "      <td>0.053</td>\n",
       "      <td>0.057</td>\n",
       "    </tr>\n",
       "    <tr>\n",
       "      <th>4</th>\n",
       "      <td>4.8940</td>\n",
       "      <td>-869.016791</td>\n",
       "      <td>-868.919123</td>\n",
       "      <td>2.9</td>\n",
       "      <td>64.2</td>\n",
       "      <td>1.9</td>\n",
       "      <td>42.9</td>\n",
       "      <td>-869.013177</td>\n",
       "      <td>-868.916998</td>\n",
       "      <td>-868.901025</td>\n",
       "      <td>...</td>\n",
       "      <td>1.912635</td>\n",
       "      <td>0.050718</td>\n",
       "      <td>0.006151</td>\n",
       "      <td>-15.077</td>\n",
       "      <td>-9.931</td>\n",
       "      <td>-2.5730</td>\n",
       "      <td>-12.5040</td>\n",
       "      <td>0.030</td>\n",
       "      <td>0.034</td>\n",
       "      <td>0.031</td>\n",
       "    </tr>\n",
       "  </tbody>\n",
       "</table>\n",
       "<p>5 rows × 33 columns</p>\n",
       "</div>"
      ],
      "text/plain": [
       "   Time Scaled  S0 CASSCF 2R  S1 CASSCF 2R  S0 CASSCF 2R Scaled  \\\n",
       "0       0.0000   -869.021421   -868.908881                  0.0   \n",
       "1       1.2235   -869.021621   -868.910283                 -0.1   \n",
       "2       2.4470   -869.021185   -868.913040                  0.1   \n",
       "3       3.6705   -869.019683   -868.916329                  1.1   \n",
       "4       4.8940   -869.016791   -868.919123                  2.9   \n",
       "\n",
       "   S1 CASSCF 2R Scaled  S0 CASSCF 2R Scaled CASPT2  \\\n",
       "0                 70.6                         0.0   \n",
       "1                 69.7                        -0.1   \n",
       "2                 68.0                         0.1   \n",
       "3                 65.9                         0.7   \n",
       "4                 64.2                         1.9   \n",
       "\n",
       "   S1 CASSCF 2R Scaled CASPT2  S0 CASSCF Energy  S1 CASSCF Energy  \\\n",
       "0                        47.2       -869.021843       -868.907728   \n",
       "1                        46.6       -869.021488       -868.910346   \n",
       "2                        45.4       -869.020138       -868.913349   \n",
       "3                        44.1       -869.017405       -868.915721   \n",
       "4                        42.9       -869.013177       -868.916998   \n",
       "\n",
       "   S2 CASSCF Energy  ...  Oscillator Strength S0S1  Oscillator Strength S0S2  \\\n",
       "0       -868.880461  ...                  1.429031                  0.329143   \n",
       "1       -868.884860  ...                  1.485390                  0.303284   \n",
       "2       -868.890678  ...                  1.584949                  0.251891   \n",
       "3       -868.896529  ...                  1.733408                  0.164335   \n",
       "4       -868.901025  ...                  1.912635                  0.050718   \n",
       "\n",
       "   Oscillator Strength S1S2  Reactive TORS  Reactive HOOP  HOOP in phase  \\\n",
       "0                  0.051163        -15.070         -9.261        -2.9045   \n",
       "1                  0.048310        -15.069         -9.345        -2.8620   \n",
       "2                  0.040584        -15.067         -9.484        -2.7915   \n",
       "3                  0.025491        -15.069         -9.680        -2.6945   \n",
       "4                  0.006151        -15.077         -9.931        -2.5730   \n",
       "\n",
       "   TAU overlap  full-BLA  beta-BLA  rpsb-BLA  \n",
       "0     -12.1655     0.090     0.090     0.114  \n",
       "1     -12.2070     0.081     0.082     0.101  \n",
       "2     -12.2755     0.067     0.069     0.081  \n",
       "3     -12.3745     0.050     0.053     0.057  \n",
       "4     -12.5040     0.030     0.034     0.031  \n",
       "\n",
       "[5 rows x 33 columns]"
      ]
     },
     "execution_count": 8,
     "metadata": {},
     "output_type": "execute_result"
    }
   ],
   "source": [
    "df.head()"
   ]
  },
  {
   "cell_type": "code",
   "execution_count": 9,
   "metadata": {},
   "outputs": [
    {
     "data": {
      "text/plain": [
       "0      0.5706\n",
       "1      0.5607\n",
       "2      0.5449\n",
       "3      0.5243\n",
       "4      0.5002\n",
       "        ...  \n",
       "372       NaN\n",
       "373       NaN\n",
       "374       NaN\n",
       "375       NaN\n",
       "376       NaN\n",
       "Name: S0 Mulliken Charge, Length: 377, dtype: float64"
      ]
     },
     "execution_count": 9,
     "metadata": {},
     "output_type": "execute_result"
    }
   ],
   "source": [
    "df.iloc[:,20]"
   ]
  },
  {
   "cell_type": "code",
   "execution_count": 10,
   "metadata": {},
   "outputs": [
    {
     "data": {
      "application/vnd.jupyter.widget-view+json": {
       "model_id": "ab180eb230df43e9886236fc34fff88a",
       "version_major": 2,
       "version_minor": 0
      },
      "text/plain": [
       "Canvas(toolbar=Toolbar(toolitems=[('Home', 'Reset original view', 'home', 'home'), ('Back', 'Back to previous …"
      ]
     },
     "metadata": {},
     "output_type": "display_data"
    },
    {
     "data": {
      "text/plain": [
       "<matplotlib.collections.PathCollection at 0x14843e550250>"
      ]
     },
     "execution_count": 10,
     "metadata": {},
     "output_type": "execute_result"
    }
   ],
   "source": [
    "plt.scatter(df.iloc[:,32], df.iloc[:,20])"
   ]
  },
  {
   "cell_type": "code",
   "execution_count": 31,
   "metadata": {},
   "outputs": [],
   "source": [
    "def plot_bla_tor_hop_3d(traj_csv_dict_1,\n",
    "                        traj_csv_dict_2,\n",
    "                        traj_csv_dict_3,\n",
    "                        traj_csv_dict_4,\n",
    "                        project_name, rpath, xlim=None, ylim=None):\n",
    "    '''\n",
    "    @author: Leonardo Barneschi\n",
    "    Create a plot of the Retinal Mulliken Charges.\n",
    "    '''\n",
    "\n",
    "    fig = plt.figure()\n",
    "    ax = plt.subplot(projection='3d')#**gen_params['canvas_dimension'])\n",
    "\n",
    "    #ax.set_aspect(\"equal\")\n",
    "\n",
    "    ax.w_xaxis.set_pane_color((0.96, 0.96, 0.94, 1.0))\n",
    "    ax.w_yaxis.set_pane_color((0.96, 0.96, 0.94, 1.0))\n",
    "    ax.w_zaxis.set_pane_color((0.96, 0.96, 0.94, 1.0))\n",
    "\n",
    "    ax.xaxis.pane.set_edgecolor('#000000')\n",
    "    ax.yaxis.pane.set_edgecolor('#000000')\n",
    "    ax.zaxis.pane.set_edgecolor('#000000')\n",
    "    #ax.zaxis.pane.set_edgecolor('#D0D0D0')\n",
    "\n",
    "    ax.xaxis.pane.set_alpha(1)\n",
    "    ax.yaxis.pane.set_alpha(1)\n",
    "    ax.zaxis.pane.set_alpha(1)\n",
    "\n",
    "    # >>>> Set X and Y axis titles.\n",
    "    #ax.set_xlabel('Torsion')#, **gen_params['x_title_dimension'], labelpad=10)\n",
    "    #ax.set_ylabel('HOOP')#, **gen_params['y_title_dimension'], labelpad=10)\n",
    "    #ax.set_zlabel('BLA')#, **gen_params['z_title_dimension'], labelpad=10)\n",
    "   \n",
    "    ax.set_xlim(-170, -90)\n",
    "    ax.set_ylim(-0.15,0.15)\n",
    "    ax.set_zlim(0,140)\n",
    "    ax.set_xlabel('${\\mathrm{C_{12}-C_{13}=C_{14}-C_{15}\\hspace{0.05in}(degrees)}}$')\n",
    "    ax.set_ylabel(('${\\mathrm{BLA\\hspace{0.03in}(angstrom)}}$')\n",
    "    ax.set_zlabel('${\\mathrm{Relative\\hspace{0.03in}Energy\\hspace{0.03in}(kcal\\hspace{0.03in}mol^{-1})}}$')\n",
    "\n",
    "    ax.scatter(traj_csv_dict_1['S0 Mulliken Charge'], traj_csv_dict_1['S1 Mulliken Charge'], traj_csv_dict_1['rpsb-BLA'], label='qar1')\n",
    "    ax.scatter(traj_csv_dict_2['S0 Mulliken Charge'], traj_csv_dict_2['S1 Mulliken Charge'], traj_csv_dict_2['rpsb-BLA'], label='qar2')\n",
    "    ax.scatter(traj_csv_dict_3['S0 Mulliken Charge'], traj_csv_dict_3['S1 Mulliken Charge'], traj_csv_dict_3['rpsb-BLA'], label='ar5')\n",
    "    ax.scatter(traj_csv_dict_4['S0 Mulliken Charge'], traj_csv_dict_4['S1 Mulliken Charge'], traj_csv_dict_4['rpsb-BLA'], label='ar7')\n",
    "\n",
    "    ax.legend()"
   ]
  },
  {
   "cell_type": "code",
   "execution_count": 32,
   "metadata": {},
   "outputs": [
    {
     "data": {
      "application/vnd.jupyter.widget-view+json": {
       "model_id": "90a5c5e1fcd34f2dae56ccd2b754c9df",
       "version_major": 2,
       "version_minor": 0
      },
      "text/plain": [
       "Canvas(toolbar=Toolbar(toolitems=[('Home', 'Reset original view', 'home', 'home'), ('Back', 'Back to previous …"
      ]
     },
     "metadata": {},
     "output_type": "display_data"
    }
   ],
   "source": [
    "traj_csv_dict_1 = \"qar1_f13_results_FC.csv\"\n",
    "traj_csv_dict_2 = \"qar2_f13_results_FC.csv\"\n",
    "traj_csv_dict_3 = \"ar5_f13_results_FC.csv\"\n",
    "traj_csv_dict_4 = \"ar7_f13_results_FC.csv\"\n",
    "\n",
    "project_name  = \"debug_mode\"\n",
    "rpath = \".\"\n",
    "\n",
    "csv_dict_1 = create_csv_dict(traj_csv_dict_1)\n",
    "csv_dict_2 = create_csv_dict(traj_csv_dict_2)\n",
    "csv_dict_3 = create_csv_dict(traj_csv_dict_3)\n",
    "csv_dict_4 = create_csv_dict(traj_csv_dict_4)\n",
    "\n",
    "plot_bla_tor_hop_3d(csv_dict_1, csv_dict_2, csv_dict_3, csv_dict_4, project_name, rpath)"
   ]
  },
  {
   "cell_type": "code",
   "execution_count": 135,
   "metadata": {},
   "outputs": [
    {
     "data": {
      "text/plain": [
       "0     -15.520\n",
       "1     -15.521\n",
       "2     -15.525\n",
       "3     -15.533\n",
       "4     -15.550\n",
       "        ...  \n",
       "368   -20.886\n",
       "369   -20.774\n",
       "370       NaN\n",
       "371       NaN\n",
       "372       NaN\n",
       "Name: Reactive TORS, Length: 373, dtype: float64"
      ]
     },
     "execution_count": 135,
     "metadata": {},
     "output_type": "execute_result"
    }
   ],
   "source": [
    "csv_dict_1['Reactive TORS']"
   ]
  },
  {
   "cell_type": "code",
   "execution_count": null,
   "metadata": {},
   "outputs": [],
   "source": []
  }
 ],
 "metadata": {
  "kernelspec": {
   "display_name": "Python 3",
   "language": "python",
   "name": "python3"
  },
  "language_info": {
   "codemirror_mode": {
    "name": "ipython",
    "version": 3
   },
   "file_extension": ".py",
   "mimetype": "text/x-python",
   "name": "python",
   "nbconvert_exporter": "python",
   "pygments_lexer": "ipython3",
   "version": "3.8.5"
  }
 },
 "nbformat": 4,
 "nbformat_minor": 4
}
