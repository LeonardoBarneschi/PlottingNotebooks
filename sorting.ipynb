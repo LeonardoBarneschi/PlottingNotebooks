{
 "cells": [
  {
   "cell_type": "code",
   "execution_count": 18,
   "metadata": {},
   "outputs": [],
   "source": [
    "a = [49.3, 48.5, 45.8, 46.0, 45.7, 45.5, 46.0, 46.4, 49.2, 48.8, 51.4]\n",
    "b = [\"QuasAr1\",\"QuasAr2\",\"Arch3_95E_99C_59A\",\"Arch3_95E_99C_196S\",\"Arch3_95E_99C\",\"Arch3_95E_99C_60L\",\"Arch5_WT\",\"Arch7_WT\",\"Archon2_WT\",\"Archon1_WT\",\"Arch3_WT\"]\n",
    "c = [53.0, 51.8, 49.6, 47.3, 49.7, 49.9, 48.0, 48.8, 53.0, 53.0, 54.3]\n",
    "d = [0.4, 0.6, 0.6, 0.6, 0.8, 0.6, 0.4, 0.1, 0.8, 0.5, 0.7]"
   ]
  },
  {
   "cell_type": "code",
   "execution_count": 19,
   "metadata": {},
   "outputs": [],
   "source": [
    "a_sorted, b_sorted = zip(*sorted(zip(a, b)))"
   ]
  },
  {
   "cell_type": "code",
   "execution_count": 20,
   "metadata": {},
   "outputs": [
    {
     "name": "stdout",
     "output_type": "stream",
     "text": [
      "(45.5, 45.7, 45.8, 46.0, 46.0, 46.4, 48.5, 48.8, 49.2, 49.3, 51.4)\n"
     ]
    }
   ],
   "source": [
    "print(a_sorted)"
   ]
  },
  {
   "cell_type": "code",
   "execution_count": 21,
   "metadata": {},
   "outputs": [
    {
     "name": "stdout",
     "output_type": "stream",
     "text": [
      "('Arch3_95E_99C_60L', 'Arch3_95E_99C', 'Arch3_95E_99C_59A', 'Arch3_95E_99C_196S', 'Arch5_WT', 'Arch7_WT', 'QuasAr2', 'Archon1_WT', 'Archon2_WT', 'QuasAr1', 'Arch3_WT')\n"
     ]
    }
   ],
   "source": [
    "print(b_sorted)"
   ]
  },
  {
   "cell_type": "code",
   "execution_count": null,
   "metadata": {},
   "outputs": [],
   "source": []
  }
 ],
 "metadata": {
  "kernelspec": {
   "display_name": "Python 3",
   "language": "python",
   "name": "python3"
  },
  "language_info": {
   "codemirror_mode": {
    "name": "ipython",
    "version": 3
   },
   "file_extension": ".py",
   "mimetype": "text/x-python",
   "name": "python",
   "nbconvert_exporter": "python",
   "pygments_lexer": "ipython3",
   "version": "3.7.4"
  }
 },
 "nbformat": 4,
 "nbformat_minor": 4
}
