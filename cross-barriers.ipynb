{
 "cells": [
  {
   "cell_type": "code",
   "execution_count": 1,
   "metadata": {},
   "outputs": [],
   "source": [
    "import argparse\n",
    "import csv\n",
    "import os\n",
    "import sys\n",
    "import numpy as np\n",
    "import matplotlib\n",
    "import matplotlib.font_manager as fm\n",
    "import matplotlib.patheffects as pe\n",
    "import pandas as pd\n",
    "import sys\n",
    "import textwrap\n",
    "from itertools import product, combinations\n",
    "from matplotlib import cm\n",
    "from matplotlib.ticker import FormatStrFormatter\n",
    "from matplotlib import pyplot as plt\n",
    "from mpl_toolkits.mplot3d import Axes3D\n",
    "from mpl_toolkits.mplot3d import axes3d\n",
    "import matplotlib.transforms as mtransforms\n",
    "from matplotlib.patches import Circle, PathPatch\n",
    "import mpl_toolkits.mplot3d.art3d as art3d\n",
    "from matplotlib.text import TextPath\n",
    "from matplotlib.transforms import Affine2D\n",
    "\n",
    "#Import modules\n",
    "from plot_trends_config import *\n",
    "from plotting_utils import *\n",
    "\n",
    "%matplotlib widget"
   ]
  },
  {
   "cell_type": "code",
   "execution_count": 2,
   "metadata": {},
   "outputs": [],
   "source": [
    "matplotlib.use('pgf')\n",
    "matplotlib.rcParams['pgf.texsystem'] = 'pdflatex'\n",
    "matplotlib.rcParams['text.usetex'] = True\n",
    "matplotlib.rcParams['text.latex.preamble'] = [ r'\\usepackage{siunitx}',\n",
    "                                               r'\\sisetup{detect-all}',\n",
    "                                               r'\\usepackage{helvet}',\n",
    "                                               r'\\usepackage{sansmath}',\n",
    "                                               r'\\sansmath']"
   ]
  },
  {
   "cell_type": "code",
   "execution_count": 3,
   "metadata": {},
   "outputs": [],
   "source": [
    "s1_params_scatter = {'model_0': {'color': '#0C10FA', 'edgecolors': '#0C10FA', 'lw': 0.8, 'marker': 'o', 's': 50, 'zorder': 1},\n",
    "                     'model_1': {'color': '#00008B', 'edgecolors': '#00008B', 'lw': 0.8, 'marker': 'o', 's': 50, 'zorder': 1},\n",
    "                     'model_3': {'color': '#CBC130', 'edgecolors': '#CBC130', 'lw': 0.8, 'marker': 'o', 's': 50, 'zorder': 1},\n",
    "                     'model_2': {'color': '#008000', 'edgecolors': '#008000', 'lw': 0.8, 'marker': 'o', 's': 50, 'zorder': 1},\n",
    "                     'model_4': {'color': '#BD6B00', 'edgecolors': '#BD6B00', 'lw': 0.8, 'marker': 'o', 's': 50, 'zorder': 1},\n",
    "                     'model_5': {'color': '#A52A2A', 'edgecolors': '#A52A2A', 'lw': 0.8, 'marker': 'o', 's': 50, 'zorder': 1},\n",
    "                     'model_6': {'color': '#7E0A0A', 'edgecolors': '#7E0A0A', 'lw': 0.8, 'marker': 'o', 's': 50, 'zorder': 1}}\n",
    "\n",
    "s1_params_plot = {'model_0': {'color': '#0C10FA', 'lw': 0.8, 'zorder': 1},\n",
    "                  'model_1': {'color': '#00008B', 'lw': 0.8, 'zorder': 1},\n",
    "                  'model_3': {'color': '#CBC130', 'lw': 0.8, 'zorder': 1},\n",
    "                  'model_2': {'color': '#008000', 'lw': 0.8, 'zorder': 1},\n",
    "                  'model_4': {'color': '#BD6B00', 'lw': 0.8, 'zorder': 1},\n",
    "                  'model_5': {'color': '#A52A2A', 'lw': 0.8, 'zorder': 1},\n",
    "                  'model_6': {'color': '#7E0A0A', 'lw': 0.8, 'zorder': 1}}"
   ]
  },
  {
   "cell_type": "code",
   "execution_count": 4,
   "metadata": {},
   "outputs": [],
   "source": [
    "def set_axes_limits(axes_obj, xlim, ylim, x_off, y_off):\n",
    "    \n",
    "    if ylim != None:\n",
    "        axes_obj.set_yticks(np.arange(ylim[0], ylim[1]+y_off, ylim[2]))\n",
    "        axes_obj.set_ylim(ylim[0]-y_off, ylim[1]+y_off)\n",
    "\n",
    "    if xlim != None:\n",
    "        axes_obj.set_xticks(np.arange(xlim[0], xlim[1]+x_off, xlim[2]))\n",
    "        axes_obj.set_xlim(xlim[0]-x_off, xlim[1]+x_off)\n",
    "\n",
    "    return axes_obj"
   ]
  },
  {
   "cell_type": "code",
   "execution_count": 5,
   "metadata": {},
   "outputs": [],
   "source": [
    "ods_1 = '/home/leonardo/Desktop/Pipelines/DISPLACEMENT_PIPELINE/ods/arch2-cross-sections.ods'\n",
    "ods_2 = '/home/leonardo/Desktop/Pipelines/DISPLACEMENT_PIPELINE/ods/arch3-cross-sections.ods'\n",
    "ods_3 = '/home/leonardo/Desktop/Pipelines/DISPLACEMENT_PIPELINE/ods/quasar1-cross-sections.ods'\n",
    "ods_4 = '/home/leonardo/Desktop/Pipelines/DISPLACEMENT_PIPELINE/ods/quasar2-cross-sections.ods'\n",
    "ods_5 = '/home/leonardo/Desktop/Pipelines/DISPLACEMENT_PIPELINE/ods/arch7-cross-sections.ods'\n",
    "ods_6 = '/home/leonardo/Desktop/Pipelines/DISPLACEMENT_PIPELINE/ods/arch5-cross-sections.ods'"
   ]
  },
  {
   "cell_type": "code",
   "execution_count": 6,
   "metadata": {},
   "outputs": [],
   "source": [
    "ods_file_1 = pd.ExcelFile(ods_1, engine=\"odf\")\n",
    "ods_file_2 = pd.ExcelFile(ods_2, engine=\"odf\")\n",
    "ods_file_3 = pd.ExcelFile(ods_3, engine=\"odf\")\n",
    "ods_file_4 = pd.ExcelFile(ods_4, engine=\"odf\")\n",
    "ods_file_5 = pd.ExcelFile(ods_5, engine=\"odf\")\n",
    "ods_file_6 = pd.ExcelFile(ods_6, engine=\"odf\")"
   ]
  },
  {
   "cell_type": "code",
   "execution_count": 7,
   "metadata": {},
   "outputs": [],
   "source": [
    "df1 = pd.read_excel(ods_file_1, 'pla_tict', engine=\"odf\")\n",
    "df2 = pd.read_excel(ods_file_2, 'pla_tict', engine=\"odf\")\n",
    "df3 = pd.read_excel(ods_file_3, 'pla_tict', engine=\"odf\")\n",
    "df4 = pd.read_excel(ods_file_4, 'pla_tict', engine=\"odf\")\n",
    "df5 = pd.read_excel(ods_file_5, 'pla_tict', engine=\"odf\")\n",
    "df6 = pd.read_excel(ods_file_6, 'pla_tict', engine=\"odf\")"
   ]
  },
  {
   "cell_type": "code",
   "execution_count": 8,
   "metadata": {},
   "outputs": [],
   "source": [
    "df1 = df1.sort_values('Torsion')\n",
    "df2 = df2.sort_values('Torsion')\n",
    "df3 = df3.sort_values('Torsion')\n",
    "df4 = df4.sort_values('Torsion')\n",
    "df5 = df5.sort_values('Torsion')\n",
    "df6 = df6.sort_values('Torsion')"
   ]
  },
  {
   "cell_type": "code",
   "execution_count": 13,
   "metadata": {},
   "outputs": [],
   "source": [
    "def plot_pes_s1():\n",
    "    \n",
    "    #key_1 = 'FQY'\n",
    "    #key_2 = 'TICT-PLA'\n",
    "    #key_3 = 'TICT-PLAb'\n",
    "    legends = ['${{\\mathrm{Arch2}}}$',\n",
    "               '${{\\mathrm{Arch3}}}$',\n",
    "               '${{\\mathrm{QuasAr1}}}$',\n",
    "               '${{\\mathrm{QuasAr2}}}$',\n",
    "               '${{\\mathrm{Arch7}}}$',\n",
    "               '${{\\mathrm{Arch5}}}$']\n",
    "    \n",
    "    xlim = (-170, -90, 20)\n",
    "    ylim = (46.0, 56.0, 1.0)\n",
    "    x_off = 5\n",
    "    y_off = 0.5\n",
    "    \n",
    "    \n",
    "    fig, ax = plt.subplots(**gen_params['canvas_dimension'])\n",
    "    ax.set_xlabel('${\\mathrm{C_{12}-C_{13}=C_{14}-C_{15}\\hspace{0.05in}(degrees)}}$',              **gen_params['x_title_dimension'])\n",
    "    ax.set_ylabel('${\\mathrm{Relative\\hspace{0.1in}Energy\\hspace{0.1in}(kcal\\hspace{0.10in}mol^{-1})}}$',**gen_params['y_title_dimension'])\n",
    "    ax.xaxis.set_major_formatter(FormatStrFormatter('$%.0f$'))\n",
    "    ax.yaxis.set_major_formatter(FormatStrFormatter('$%.1f$'))\n",
    "\n",
    "    ax = set_axes_limits(ax, xlim, ylim, x_off, y_off)\n",
    "    #ax.minorticks_on()\n",
    "    #ax.tick_params(**minor_ticks_params)\n",
    "    ax.tick_params(axis='x', **ticks_params)\n",
    "    ax.tick_params(axis='y', **ticks_params)\n",
    "    ax.set_yticklabels(ax.get_yticks(), **lab_params)\n",
    "    ax.set_xticklabels(ax.get_xticks(), **lab_params)\n",
    "    ax.yaxis.set_major_formatter(FormatStrFormatter('$%.1f$'))\n",
    "    ax.xaxis.set_major_formatter(FormatStrFormatter('$%.0f$'))\n",
    "    \n",
    "    #ax.plot(df1.iloc[:,0], df1.iloc[:,2], **s1_params_plot['model_1'])\n",
    "    #ax.plot(df2.iloc[:,0], df2.iloc[:,2], **s1_params_plot['model_2'])\n",
    "    #ax.plot(df3.iloc[:,0], df3.iloc[:,2], **s1_params_plot['model_3'])\n",
    "    #ax.plot(df4.iloc[:,0], df4.iloc[:,2], **s1_params_plot['model_4'])\n",
    "    #ax.plot(df5.iloc[:,0], df5.iloc[:,2], **s1_params_plot['model_5'])\n",
    "    ax.plot(df6.iloc[:,0], df6.iloc[:,2], **s1_params_plot['model_6'])\n",
    "    \n",
    "    #ax.scatter(df1.iloc[:,0], df1.iloc[:,2],**s1_params_scatter['model_1'], label='${{\\mathrm{Arch2}}}$')\n",
    "    #ax.scatter(df2.iloc[:,0], df2.iloc[:,2],**s1_params_scatter['model_2'], label='${{\\mathrm{Arch3}}}$')\n",
    "    #ax.scatter(df3.iloc[:,0], df3.iloc[:,2],**s1_params_scatter['model_3'], label='${{\\mathrm{QuasAr1}}}$')\n",
    "    #ax.scatter(df4.iloc[:,0], df4.iloc[:,2],**s1_params_scatter['model_4'], label='${{\\mathrm{QuasAr2}}}$')\n",
    "    #ax.scatter(df5.iloc[:,0], df5.iloc[:,2],**s1_params_scatter['model_5'], label='${{\\mathrm{Arch7}}}$')\n",
    "    ax.scatter(df6.iloc[:,0], df6.iloc[:,2],**s1_params_scatter['model_6'], label='${{\\mathrm{Arch5}}}$')\n",
    "    ax.legend(**leg_params, ncol=6, bbox_to_anchor=(0.55,1.10))\n",
    "    png_name = 'Arch5'\n",
    "    png_path = '/home/leonardo'\n",
    "    #fig.savefig(png_path+'/'+'{}.fqy.png'.format(png_name), bbox_inches='tight', dpi=600)\n",
    "    fig.savefig(png_path+'/'+'{}.debug.png'.format(png_name), bbox_inches='tight', dpi=600)\n",
    "    \n",
    "    plt.show()"
   ]
  },
  {
   "cell_type": "code",
   "execution_count": 14,
   "metadata": {},
   "outputs": [
    {
     "name": "stderr",
     "output_type": "stream",
     "text": [
      "<ipython-input-13-659017469a33>:54: UserWarning: Matplotlib is currently using pgf, which is a non-GUI backend, so cannot show the figure.\n",
      "  plt.show()\n"
     ]
    }
   ],
   "source": [
    "plot_pes_s1()"
   ]
  },
  {
   "cell_type": "code",
   "execution_count": 11,
   "metadata": {},
   "outputs": [
    {
     "name": "stdout",
     "output_type": "stream",
     "text": [
      "0\n",
      "1\n",
      "2\n",
      "3\n",
      "4\n",
      "5\n"
     ]
    }
   ],
   "source": [
    "for i in range(0,6):\n",
    "    print(i)"
   ]
  },
  {
   "cell_type": "code",
   "execution_count": null,
   "metadata": {},
   "outputs": [],
   "source": []
  }
 ],
 "metadata": {
  "kernelspec": {
   "display_name": "Python 3",
   "language": "python",
   "name": "python3"
  },
  "language_info": {
   "codemirror_mode": {
    "name": "ipython",
    "version": 3
   },
   "file_extension": ".py",
   "mimetype": "text/x-python",
   "name": "python",
   "nbconvert_exporter": "python",
   "pygments_lexer": "ipython3",
   "version": "3.8.5"
  }
 },
 "nbformat": 4,
 "nbformat_minor": 4
}
