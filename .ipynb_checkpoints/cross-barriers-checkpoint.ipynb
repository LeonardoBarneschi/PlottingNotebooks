{
 "cells": [
  {
   "cell_type": "code",
   "execution_count": 1,
   "metadata": {},
   "outputs": [],
   "source": [
    "import argparse\n",
    "import csv\n",
    "import os\n",
    "import sys\n",
    "import numpy as np\n",
    "import matplotlib\n",
    "import matplotlib.font_manager as fm\n",
    "import matplotlib.patheffects as pe\n",
    "import pandas as pd\n",
    "import sys\n",
    "import textwrap\n",
    "from itertools import product, combinations\n",
    "from matplotlib import cm\n",
    "from matplotlib.ticker import FormatStrFormatter\n",
    "from matplotlib import pyplot as plt\n",
    "from mpl_toolkits.mplot3d import Axes3D\n",
    "from mpl_toolkits.mplot3d import axes3d\n",
    "import matplotlib.transforms as mtransforms\n",
    "from matplotlib.patches import Circle, PathPatch\n",
    "import mpl_toolkits.mplot3d.art3d as art3d\n",
    "from matplotlib.text import TextPath\n",
    "from matplotlib.transforms import Affine2D"
   ]
  },
  {
   "cell_type": "code",
   "execution_count": 2,
   "metadata": {},
   "outputs": [],
   "source": [
    "gen_params   =          {\n",
    "                        #'canvas_dimension' : {'figsize':(3.5,3.5)},\n",
    "                        'canvas_dimension' : {'figsize':(7,7)},\n",
    "                        'x_title_dimension': {'size':12},\n",
    "                        'y_title_dimension': {'size':12},\n",
    "                        'z_title_dimension': {'size':12},\n",
    "                        'horizontal_line'  : {'color':'black', 'lw':0.5, 'ls':'--', 'zorder':1}}\n",
    "\n",
    "ticks_params =          {\n",
    "                        'direction'      : 'in',\n",
    "                        'width'          : 1,\n",
    "                        'color'          : '#A9A9A9'\n",
    "                        }\n",
    "\n",
    "lab_params   =          {\n",
    "                        'fontproperties' : fm.FontProperties(size=12),\n",
    "                        'rotation'       : 'horizontal'\n",
    "                        }\n",
    "\n",
    "minor_ticks_params =    {\n",
    "                        'which'      : 'minor',\n",
    "                        'width'      :  1,\n",
    "                        'color'      : '#A9A9A9',\n",
    "                        'direction'  : 'in',\n",
    "                        }"
   ]
  },
  {
   "cell_type": "code",
   "execution_count": 3,
   "metadata": {},
   "outputs": [],
   "source": [
    "ods_1 = '/home/leonardo/Desktop/Pipelines/DISPLACEMENT_PIPELINE/INTERPOLATE_BETWEEN_GEOMETRIES/arch2/results/arch2-cross-sections.ods'\n",
    "ods_2 = '/home/leonardo/Desktop/Pipelines/DISPLACEMENT_PIPELINE/INTERPOLATE_BETWEEN_GEOMETRIES/arch7/arch7-cross-sections.ods'\n",
    "ods_3 = '/home/leonardo/Desktop/Pipelines/DISPLACEMENT_PIPELINE/INTERPOLATE_BETWEEN_GEOMETRIES/arch5/results/arch5-cross-sections.ods'\n",
    "ods_4 = '/home/leonardo/Desktop/Pipelines/DISPLACEMENT_PIPELINE/INTERPOLATE_BETWEEN_GEOMETRIES/quasar1/results/quasar1-cross-sections.ods'"
   ]
  },
  {
   "cell_type": "code",
   "execution_count": 4,
   "metadata": {},
   "outputs": [],
   "source": [
    "ods_file_1 = pd.ExcelFile(ods_1, engine=\"odf\")\n",
    "ods_file_2 = pd.ExcelFile(ods_2, engine=\"odf\")\n",
    "ods_file_3 = pd.ExcelFile(ods_3, engine=\"odf\")\n",
    "ods_file_4 = pd.ExcelFile(ods_4, engine=\"odf\")"
   ]
  },
  {
   "cell_type": "code",
   "execution_count": 5,
   "metadata": {},
   "outputs": [],
   "source": [
    "df1 = pd.read_excel(ods_file_1, 'pla_tict', engine=\"odf\")\n",
    "df2 = pd.read_excel(ods_file_2, 'pla_tict', engine=\"odf\")\n",
    "df3 = pd.read_excel(ods_file_3, 'pla_tict', engine=\"odf\")\n",
    "df4 = pd.read_excel(ods_file_4, 'pla_tict', engine=\"odf\")"
   ]
  },
  {
   "cell_type": "code",
   "execution_count": 6,
   "metadata": {},
   "outputs": [],
   "source": [
    "df1 = df1.sort_values('Torsion')\n",
    "df2 = df2.sort_values('Torsion')\n",
    "df3 = df3.sort_values('Torsion')\n",
    "df4 = df4.sort_values('Torsion')"
   ]
  },
  {
   "cell_type": "code",
   "execution_count": 7,
   "metadata": {},
   "outputs": [
    {
     "data": {
      "text/plain": [
       "Index(['Torsion', 'full_BLA', 'S1_Energy'], dtype='object')"
      ]
     },
     "execution_count": 7,
     "metadata": {},
     "output_type": "execute_result"
    }
   ],
   "source": [
    "df2.keys()"
   ]
  },
  {
   "cell_type": "code",
   "execution_count": 8,
   "metadata": {},
   "outputs": [
    {
     "data": {
      "text/html": [
       "<div>\n",
       "<style scoped>\n",
       "    .dataframe tbody tr th:only-of-type {\n",
       "        vertical-align: middle;\n",
       "    }\n",
       "\n",
       "    .dataframe tbody tr th {\n",
       "        vertical-align: top;\n",
       "    }\n",
       "\n",
       "    .dataframe thead th {\n",
       "        text-align: right;\n",
       "    }\n",
       "</style>\n",
       "<table border=\"1\" class=\"dataframe\">\n",
       "  <thead>\n",
       "    <tr style=\"text-align: right;\">\n",
       "      <th></th>\n",
       "      <th>Torsion</th>\n",
       "      <th>full_BLA</th>\n",
       "      <th>S1_Energy</th>\n",
       "    </tr>\n",
       "  </thead>\n",
       "  <tbody>\n",
       "    <tr>\n",
       "      <th>0</th>\n",
       "      <td>-162.562595</td>\n",
       "      <td>0.036057</td>\n",
       "      <td>48.917853</td>\n",
       "    </tr>\n",
       "    <tr>\n",
       "      <th>1</th>\n",
       "      <td>-160.426810</td>\n",
       "      <td>-0.057259</td>\n",
       "      <td>48.563831</td>\n",
       "    </tr>\n",
       "    <tr>\n",
       "      <th>7</th>\n",
       "      <td>-149.256760</td>\n",
       "      <td>-0.057294</td>\n",
       "      <td>49.909305</td>\n",
       "    </tr>\n",
       "    <tr>\n",
       "      <th>6</th>\n",
       "      <td>-139.225159</td>\n",
       "      <td>-0.055977</td>\n",
       "      <td>51.084127</td>\n",
       "    </tr>\n",
       "    <tr>\n",
       "      <th>5</th>\n",
       "      <td>-129.199745</td>\n",
       "      <td>-0.051368</td>\n",
       "      <td>52.654494</td>\n",
       "    </tr>\n",
       "    <tr>\n",
       "      <th>4</th>\n",
       "      <td>-119.177557</td>\n",
       "      <td>-0.042747</td>\n",
       "      <td>54.236506</td>\n",
       "    </tr>\n",
       "    <tr>\n",
       "      <th>3</th>\n",
       "      <td>-109.159898</td>\n",
       "      <td>-0.029627</td>\n",
       "      <td>54.880211</td>\n",
       "    </tr>\n",
       "    <tr>\n",
       "      <th>2</th>\n",
       "      <td>-101.705628</td>\n",
       "      <td>-0.002784</td>\n",
       "      <td>54.830550</td>\n",
       "    </tr>\n",
       "  </tbody>\n",
       "</table>\n",
       "</div>"
      ],
      "text/plain": [
       "      Torsion  full_BLA  S1_Energy\n",
       "0 -162.562595  0.036057  48.917853\n",
       "1 -160.426810 -0.057259  48.563831\n",
       "7 -149.256760 -0.057294  49.909305\n",
       "6 -139.225159 -0.055977  51.084127\n",
       "5 -129.199745 -0.051368  52.654494\n",
       "4 -119.177557 -0.042747  54.236506\n",
       "3 -109.159898 -0.029627  54.880211\n",
       "2 -101.705628 -0.002784  54.830550"
      ]
     },
     "execution_count": 8,
     "metadata": {},
     "output_type": "execute_result"
    }
   ],
   "source": [
    "df2"
   ]
  },
  {
   "cell_type": "code",
   "execution_count": 9,
   "metadata": {},
   "outputs": [],
   "source": [
    "scat = {'model_0' : {'color' : '#BEBFF7', 'edgecolors' : '#0C10FA', 'lw' : 0.6, 'marker' : 'o', 's' : 40, 'zorder' : 4},\n",
    "        'model_1' : {'color' : '#88C9FA', 'edgecolors' : '#00008B', 'lw' : 0.6, 'marker' : 'o', 's' : 40, 'zorder' : 4},\n",
    "        'model_2' : {'color' : '#ADFF2F', 'edgecolors' : '#008000', 'lw' : 0.6, 'marker' : 'o', 's' : 40, 'zorder' : 4},\n",
    "        'model_3' : {'color' : '#FFC67A', 'edgecolors' : '#BD6B00', 'lw' : 0.6, 'marker' : 'o', 's' : 40, 'zorder' : 4},\n",
    "        'model_4' : {'color' : '#F3B2B2', 'edgecolors' : '#A52A2A', 'lw' : 0.6, 'marker' : 'o', 's' : 40, 'zorder' : 4},\n",
    "        'model_5' : {'color' : '#C5AFAF', 'edgecolors' : '#7E0A0A', 'lw' : 0.6, 'marker' : 'o', 's' : 40, 'zorder' : 4},\n",
    "        'model_6' : {'color' : '#E5E5E5', 'edgecolors' : '#5E5E5E', 'lw' : 0.6, 'marker' : 'o', 's' : 40, 'zorder' : 4}}"
   ]
  },
  {
   "cell_type": "code",
   "execution_count": 10,
   "metadata": {},
   "outputs": [],
   "source": [
    "plot = {'model_0' : {'color' : '#0C10FA', 'lw' : 0.7, 'zorder' : 1, 'ls' : '-', 'alpha' : 0.8},\n",
    "        'model_1' : {'color' : '#00008B', 'lw' : 0.7, 'zorder' : 1, 'ls' : '-', 'alpha' : 0.8},\n",
    "        'model_2' : {'color' : '#008000', 'lw' : 0.7, 'zorder' : 1, 'ls' : '-', 'alpha' : 0.8},\n",
    "        'model_3' : {'color' : '#BD6B00', 'lw' : 0.7, 'zorder' : 1, 'ls' : '-', 'alpha' : 0.8},\n",
    "        'model_4' : {'color' : '#A52A2A', 'lw' : 0.7, 'zorder' : 1, 'ls' : '-', 'alpha' : 0.8},\n",
    "        'model_5' : {'color' : '#7E0A0A', 'lw' : 0.7, 'zorder' : 1, 'ls' : '-', 'alpha' : 0.8},\n",
    "        'model_6' : {'color' : '#5E5E5E', 'lw' : 0.7, 'zorder' : 1, 'ls' : '-', 'alpha' : 0.8}}"
   ]
  },
  {
   "cell_type": "code",
   "execution_count": 14,
   "metadata": {},
   "outputs": [
    {
     "data": {
      "text/plain": [
       "<matplotlib.legend.Legend at 0x149a524fa8e0>"
      ]
     },
     "execution_count": 14,
     "metadata": {},
     "output_type": "execute_result"
    },
    {
     "data": {
      "image/png": "[encoded data removed]",
      "text/plain": [
       "<Figure size 504x504 with 1 Axes>"
      ]
     },
     "metadata": {
      "needs_background": "light"
     },
     "output_type": "display_data"
    }
   ],
   "source": [
    "fig, ax = plt.subplots(**gen_params['canvas_dimension'])\n",
    "ax.minorticks_on()\n",
    "ax.tick_params(**minor_ticks_params)\n",
    "ax.tick_params(axis='x', **ticks_params)\n",
    "ax.tick_params(axis='y', **ticks_params)\n",
    "ax.set_yticklabels(ax.get_yticks(), **lab_params)\n",
    "ax.set_xticklabels(ax.get_xticks(), **lab_params)\n",
    "ax.yaxis.set_major_formatter(FormatStrFormatter('$%.1f$'))\n",
    "ax.xaxis.set_major_formatter(FormatStrFormatter('$%.0f$'))\n",
    "\n",
    "ax.plot(df1.iloc[:,0], df1.iloc[:,2], **plot['model_1'])\n",
    "ax.plot(df2.iloc[:,0], df2.iloc[:,2], **plot['model_2'])\n",
    "ax.plot(df3.iloc[:,0], df3.iloc[:,2], **plot['model_3'])\n",
    "ax.plot(df4.iloc[:,0], df4.iloc[:,2], **plot['model_4'])\n",
    "\n",
    "ax.scatter(df1.iloc[:,0], df1.iloc[:,2],**scat['model_1'], label='Arch2')\n",
    "ax.scatter(df2.iloc[:,0], df2.iloc[:,2],**scat['model_2'], label='Arch7')\n",
    "ax.scatter(df3.iloc[:,0], df3.iloc[:,2],**scat['model_3'], label='Arch5')\n",
    "ax.scatter(df4.iloc[:,0], df4.iloc[:,2],**scat['model_4'], label='QuasAr1')\n",
    "\n",
    "ax.legend()"
   ]
  },
  {
   "cell_type": "code",
   "execution_count": null,
   "metadata": {},
   "outputs": [],
   "source": []
  }
 ],
 "metadata": {
  "kernelspec": {
   "display_name": "Python 3",
   "language": "python",
   "name": "python3"
  },
  "language_info": {
   "codemirror_mode": {
    "name": "ipython",
    "version": 3
   },
   "file_extension": ".py",
   "mimetype": "text/x-python",
   "name": "python",
   "nbconvert_exporter": "python",
   "pygments_lexer": "ipython3",
   "version": "3.8.5"
  }
 },
 "nbformat": 4,
 "nbformat_minor": 4
}
