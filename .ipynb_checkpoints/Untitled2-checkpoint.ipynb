{
 "cells": [
  {
   "cell_type": "code",
   "execution_count": 22,
   "metadata": {},
   "outputs": [
    {
     "data": {
      "application/vnd.jupyter.widget-view+json": {
       "model_id": "9cc00724a5064b73939ac39f3085cbb8",
       "version_major": 2,
       "version_minor": 0
      },
      "text/plain": [
       "Canvas(toolbar=Toolbar(toolitems=[('Home', 'Reset original view', 'home', 'home'), ('Back', 'Back to previous …"
      ]
     },
     "metadata": {},
     "output_type": "display_data"
    }
   ],
   "source": [
    "#!/usr/bin/env python3\n",
    "\n",
    "# -*- coding: utf-8 -*-\n",
    "\n",
    "#**************************************************************************************#\n",
    "# a-ARM protocol                                                                       #\n",
    "# Leonardo Barneschi                                                                   #\n",
    "# leonardo.barneschi@student.unisi.it                                                  #\n",
    "# PhD student | Laboratory for Computational Photochemistry and Photobiology           #\n",
    "# University of Siena                                                                  #\n",
    "# Reference: J. Chem. Theory Comput., 2019, 15, pp 3134-3152                           #\n",
    "#**************************************************************************************#\n",
    "\n",
    "import numpy as np\n",
    "import pandas as pd\n",
    "from matplotlib import pyplot as plt\n",
    "from matplotlib.animation import FuncAnimation\n",
    "from plot_general_config import *\n",
    "from plot_trends_config import *\n",
    "%matplotlib widget\n",
    "\n",
    "df = pd.read_csv('/home/leonardo/Desktop/Pipelines/CHARGES_OFF_PIPELINE/pe_scan/arch2/3r/results_CASPT2_rs_3_debug/csv/barr.csv')\n",
    "x = np.asarray(df.iloc[:,0])\n",
    "y_1 = np.asarray(df.iloc[:,1])\n",
    "y_2 = np.asarray(df.iloc[:,2])\n",
    "y_3 = np.asarray(df.iloc[:,3])\n",
    "\n",
    "barriers = [y_1, y_2, y_3]\n",
    "fig = plt.figure(**gen_params['canvas_dimension'])\n",
    "ax = plt.axes()\n",
    "ax.set(xlim=(-180, -90), ylim=(-10, 10))\n",
    "ax.tick_params(**minor_ticks_params)\n",
    "ax.tick_params(axis='x', **ticks_params)\n",
    "ax.tick_params(axis='y', **ticks_params)\n",
    "\n",
    "N = 2\n",
    "\n",
    "lines = {}\n",
    "scats = {}\n",
    "anim_line = {}\n",
    "anim_scat = {}\n",
    "\n",
    "for j in range(N):\n",
    "    line, = ax.plot(x, barriers[j], **pes_params_plot['model_{0}'.format(j)])[0],\n",
    "    lines[j] = line\n",
    "\n",
    "for j in range(N):\n",
    "    scats['scat_{0}'.format(j)] = ax.scatter(x, barriers[j], **pes_params_scatter['model_{0}'.format(j)])"
   ]
  },
  {
   "cell_type": "code",
   "execution_count": 26,
   "metadata": {},
   "outputs": [],
   "source": [
    "ax.axhline(y=0, color='black', linewidth=0.5, linestyle='--', zorder=1)\n",
    "\n",
    "def animate_scat(num, x, y, scat):\n",
    "    scat.set_offsets(np.c_[x[:num], y[:num]])\n",
    "    return scat,\n",
    "\n",
    "def animate_plot(num, x, y, line):\n",
    "    line.set_data(x[:num], y[:num])\n",
    "    return line,\n",
    "\n",
    "# fig, update, frames ...\n",
    "for j in range(N):\n",
    "    anim_line[j] = FuncAnimation(fig, animate_plot, len(x), fargs=[x, barriers[j], lines[j]], interval=500, blit=True)\n",
    "    anim_scat[j] = FuncAnimation(fig, animate_scat, len(x), fargs=[x, barriers[j], scats['scat_{0}'.format(j)]], interval=500, blit=True)\n"
   ]
  }
 ],
 "metadata": {
  "kernelspec": {
   "display_name": "Python 3",
   "language": "python",
   "name": "python3"
  },
  "language_info": {
   "codemirror_mode": {
    "name": "ipython",
    "version": 3
   },
   "file_extension": ".py",
   "mimetype": "text/x-python",
   "name": "python",
   "nbconvert_exporter": "python",
   "pygments_lexer": "ipython3",
   "version": "3.8.5"
  }
 },
 "nbformat": 4,
 "nbformat_minor": 4
}
