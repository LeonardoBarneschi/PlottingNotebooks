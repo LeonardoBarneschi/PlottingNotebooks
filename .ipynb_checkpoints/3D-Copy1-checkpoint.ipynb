{
 "cells": [
  {
   "cell_type": "code",
   "execution_count": 1,
   "metadata": {},
   "outputs": [],
   "source": [
    "import argparse\n",
    "import csv\n",
    "import os\n",
    "import sys\n",
    "import numpy as np\n",
    "import matplotlib\n",
    "import matplotlib.font_manager as fm\n",
    "import matplotlib.patheffects as pe\n",
    "import pandas as pd\n",
    "import sys\n",
    "import textwrap\n",
    "\n",
    "from itertools import product, combinations\n",
    "from matplotlib import cm\n",
    "from matplotlib.ticker import FormatStrFormatter\n",
    "from matplotlib import pyplot as plt\n",
    "from mpl_toolkits.mplot3d import Axes3D\n",
    "from mpl_toolkits.mplot3d import axes3d\n",
    "import matplotlib.transforms as mtransforms\n",
    "from matplotlib.patches import Circle, PathPatch\n",
    "import mpl_toolkits.mplot3d.art3d as art3d\n",
    "from matplotlib.text import TextPath\n",
    "from matplotlib.transforms import Affine2D\n",
    "\n",
    "%matplotlib widget\n",
    "\n",
    "plt.rcParams['figure.dpi'] = 200"
   ]
  },
  {
   "cell_type": "code",
   "execution_count": 2,
   "metadata": {},
   "outputs": [],
   "source": [
    "#ods = '/home/leonardo/Desktop/Pipelines/DISPLACEMENT_PIPELINE/INTERPOLATE_BETWEEN_GEOMETRIES/quasar1/results/quasar1-cross-sections.ods'\n",
    "#ods = '/home/leonardo/Desktop/Pipelines/DISPLACEMENT_PIPELINE/INTERPOLATE_BETWEEN_GEOMETRIES/quasar2/results/quasar2-cross-sections.ods'\n",
    "#ods = '/home/leonardo/Desktop/Pipelines/DISPLACEMENT_PIPELINE/INTERPOLATE_BETWEEN_GEOMETRIES/arch5/results/arch5-cross-sections.ods'\n",
    "ods = '/home/leonardo/Desktop/Pipelines/DISPLACEMENT_PIPELINE/INTERPOLATE_BETWEEN_GEOMETRIES/arch7/arch7-cross-sections.ods'\n",
    "#df = pd.read_excel(ods, engine=\"odf\", nrows=106)\n",
    "df = pd.read_excel(ods, engine=\"odf\", nrows=95)"
   ]
  },
  {
   "cell_type": "code",
   "execution_count": 3,
   "metadata": {},
   "outputs": [
    {
     "data": {
      "text/plain": [
       "Index(['Reactive TORS', 'full-BLA', 'bion-BLA', 'psb-BLA', 'S0 CASSCF',\n",
       "       'S1 CASSCF', 'S2 CASSCF', 'S0 SA2-CASSCF', 'S1 SA2-CASSCF',\n",
       "       'S0 XMS-CASPT2 Energy', 'S1 XMS-CASPT2 Energy', 'S2 XMS-CASPT2 Energy',\n",
       "       'S0 Charge', 'S1 Charge', 'S2 Charge', 'Scaled S0 XMS-CASPT2 Energy',\n",
       "       'Scaled S1 XMS-CASPT2 Energy', 'Scaled S2 XMS-CASPT2 Energy'],\n",
       "      dtype='object')"
      ]
     },
     "execution_count": 3,
     "metadata": {},
     "output_type": "execute_result"
    }
   ],
   "source": [
    "df.keys()"
   ]
  },
  {
   "cell_type": "code",
   "execution_count": 4,
   "metadata": {},
   "outputs": [
    {
     "data": {
      "text/plain": [
       "0      3.391642\n",
       "1      2.174952\n",
       "2      1.490842\n",
       "3      0.789482\n",
       "4      0.196781\n",
       "        ...    \n",
       "90    22.315036\n",
       "91    21.555919\n",
       "92    20.678084\n",
       "93    19.880615\n",
       "94    19.377233\n",
       "Name: Scaled S0 XMS-CASPT2 Energy, Length: 95, dtype: float64"
      ]
     },
     "execution_count": 4,
     "metadata": {},
     "output_type": "execute_result"
    }
   ],
   "source": [
    "df['Scaled S0 XMS-CASPT2 Energy']"
   ]
  },
  {
   "cell_type": "code",
   "execution_count": 5,
   "metadata": {},
   "outputs": [],
   "source": [
    "def plot_bla_tor_hop_3d(df, project_name, rpath, xlim=None, ylim=None):\n",
    "    '''\n",
    "    @author: Leonardo Barneschi\n",
    "    Create a plot of the Retinal Mulliken Charges.\n",
    "    '''\n",
    "\n",
    "    a = 'Reactive TORS'\n",
    "    b = 'full-BLA'\n",
    "    c = 'Scaled S0 XMS-CASPT2 Energy'\n",
    "    d = 'Scaled S1 XMS-CASPT2 Energy'\n",
    "    e = 'Scaled S2 XMS-CASPT2 Energy'\n",
    "    \n",
    "    fig = plt.figure()\n",
    "    ax = plt.subplot(projection='3d')#**gen_params['canvas_dimension'])\n",
    "\n",
    "    #ax.set_aspect(\"equal\")\n",
    "\n",
    "    ax.w_xaxis.set_pane_color((0.96, 0.96, 0.94, 1.0))\n",
    "    ax.w_yaxis.set_pane_color((0.96, 0.96, 0.94, 1.0))\n",
    "    ax.w_zaxis.set_pane_color((0.96, 0.96, 0.94, 1.0))\n",
    "\n",
    "    ax.xaxis.pane.set_edgecolor('#000000')\n",
    "    ax.yaxis.pane.set_edgecolor('#000000')\n",
    "    ax.zaxis.pane.set_edgecolor('#000000')\n",
    "    #ax.zaxis.pane.set_edgecolor('#D0D0D0')\n",
    "\n",
    "    ax.xaxis.pane.set_alpha(1)\n",
    "    ax.yaxis.pane.set_alpha(1)\n",
    "    ax.zaxis.pane.set_alpha(1)\n",
    "\n",
    "    # >>>> Set X and Y axis titles.\n",
    "    ### ax.set_xlabel('Torsion')#, **gen_params['x_title_dimension'], labelpad=10)\n",
    "    ### ax.set_ylabel('HOOP')#, **gen_params['y_title_dimension'], labelpad=10)\n",
    "    ### ax.set_zlabel('BLA')#, **gen_params['z_title_dimension'], labelpad=10)\n",
    "\n",
    "    ax.scatter(df[a], df[b], df[c], cmap='Reds', edgecolors='#000000', lw=0.6, marker='o', s=30) #color='blue')\n",
    "    ax.scatter(df[a], df[b], df[d], cmap='Greens', edgecolors='#000000', lw=0.6, marker='o', s=30) #color='green')\n",
    "    ax.scatter(df[a], df[b], df[e], cmap='Blues', edgecolors='#000000', lw=0.6, marker='o', s=30)# color='red')\n",
    "\n",
    "    ax.legend()"
   ]
  },
  {
   "cell_type": "code",
   "execution_count": 6,
   "metadata": {},
   "outputs": [
    {
     "data": {
      "application/vnd.jupyter.widget-view+json": {
       "model_id": "2288c8745b62402686c218fb434ac716",
       "version_major": 2,
       "version_minor": 0
      },
      "text/plain": [
       "Canvas(toolbar=Toolbar(toolitems=[('Home', 'Reset original view', 'home', 'home'), ('Back', 'Back to previous …"
      ]
     },
     "metadata": {},
     "output_type": "display_data"
    },
    {
     "name": "stderr",
     "output_type": "stream",
     "text": [
      "No handles with labels found to put in legend.\n"
     ]
    }
   ],
   "source": [
    "project_name  = \"debug_mode\"\n",
    "rpath = \".\"\n",
    "\n",
    "plot_bla_tor_hop_3d(df, project_name, rpath)"
   ]
  },
  {
   "cell_type": "code",
   "execution_count": null,
   "metadata": {},
   "outputs": [],
   "source": []
  }
 ],
 "metadata": {
  "kernelspec": {
   "display_name": "Python 3",
   "language": "python",
   "name": "python3"
  },
  "language_info": {
   "codemirror_mode": {
    "name": "ipython",
    "version": 3
   },
   "file_extension": ".py",
   "mimetype": "text/x-python",
   "name": "python",
   "nbconvert_exporter": "python",
   "pygments_lexer": "ipython3",
   "version": "3.8.5"
  }
 },
 "nbformat": 4,
 "nbformat_minor": 4
}
